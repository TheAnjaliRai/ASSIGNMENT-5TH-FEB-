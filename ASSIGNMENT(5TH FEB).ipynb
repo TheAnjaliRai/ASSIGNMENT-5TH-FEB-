{
 "cells": [
  {
   "cell_type": "code",
   "execution_count": 1,
   "id": "922fd628",
   "metadata": {},
   "outputs": [
    {
     "data": {
      "text/plain": [
       "'AN OBJECT IS AN INSTANCE OF A CLASS WITH REAL VALUES'"
      ]
     },
     "execution_count": 1,
     "metadata": {},
     "output_type": "execute_result"
    }
   ],
   "source": [
    "#QUES1\n",
    "'''A CLASS IS LIKE A BLUEPRINTFROM WHICH OBJECTS ARE CREATED\n",
    "   IT CREATES USER DEFINED DATA STRUCTURE WHICH FOLDS ITS OWN DATA MEMBERS AND MEMBER FUNCTION'''\n",
    "'''AN OBJECT IS AN INSTANCE OF A CLASS WITH REAL VALUES'''"
   ]
  },
  {
   "cell_type": "code",
   "execution_count": 10,
   "id": "e81165da",
   "metadata": {},
   "outputs": [],
   "source": [
    "#EXAMPLE\n",
    "class Person:\n",
    "    def __init__(self , name):\n",
    "        self.name = name\n",
    "    def greet_msg(self):\n",
    "        print(\"hello\" , self.name)"
   ]
  },
  {
   "cell_type": "code",
   "execution_count": 11,
   "id": "abc61e8d",
   "metadata": {},
   "outputs": [],
   "source": [
    "anjali = Person(\"anjali rai\")"
   ]
  },
  {
   "cell_type": "code",
   "execution_count": 13,
   "id": "35850d24",
   "metadata": {},
   "outputs": [
    {
     "name": "stdout",
     "output_type": "stream",
     "text": [
      "hello anjali rai\n"
     ]
    }
   ],
   "source": [
    "anjali.greet_msg()"
   ]
  },
  {
   "cell_type": "code",
   "execution_count": null,
   "id": "d8aec477",
   "metadata": {},
   "outputs": [],
   "source": [
    "#Person is a class and anjali is an object"
   ]
  },
  {
   "cell_type": "code",
   "execution_count": null,
   "id": "d815d862",
   "metadata": {},
   "outputs": [],
   "source": [
    "#ques2\n",
    "#4 pillars of oops are\n",
    "#1)inheritance\n",
    "#2)polymorphism\n",
    "#3)encapsulation\n",
    "#4)abstraction"
   ]
  },
  {
   "cell_type": "code",
   "execution_count": null,
   "id": "df5548c2",
   "metadata": {},
   "outputs": [],
   "source": [
    "#ques3\n",
    "#__init__() function is a special python method that runs whenever a new object is created.it is used to initialize the attribute of that class\n"
   ]
  },
  {
   "cell_type": "code",
   "execution_count": 14,
   "id": "42211117",
   "metadata": {},
   "outputs": [],
   "source": [
    "#example\n",
    "class dog:\n",
    "    def __init__(self , name , breed):\n",
    "        self.name = name\n",
    "        self.breed = breed\n",
    "    def return_details(self):\n",
    "        return self.name, self.breed\n",
    "dog1 = dog(\"bruno\" , \"german shepherd\")"
   ]
  },
  {
   "cell_type": "code",
   "execution_count": 15,
   "id": "4c0fb943",
   "metadata": {},
   "outputs": [
    {
     "data": {
      "text/plain": [
       "('bruno', 'german shepherd')"
      ]
     },
     "execution_count": 15,
     "metadata": {},
     "output_type": "execute_result"
    }
   ],
   "source": [
    "dog1.return_details()"
   ]
  },
  {
   "cell_type": "code",
   "execution_count": null,
   "id": "6a167ac4",
   "metadata": {},
   "outputs": [],
   "source": [
    "#ques4\n",
    "'''self represents the instance of the class. by using self we can access the sttributes and the methods of the class in python'''\n"
   ]
  },
  {
   "cell_type": "code",
   "execution_count": null,
   "id": "f4d265c1",
   "metadata": {},
   "outputs": [],
   "source": [
    "#ques5\n",
    "'''inheritance is the procedure in which one class inherits the attributes and methods of another class'''\n",
    "'''the child class inherits properties of parent class'''\n"
   ]
  },
  {
   "cell_type": "code",
   "execution_count": 17,
   "id": "19d2b5b2",
   "metadata": {},
   "outputs": [
    {
     "name": "stdout",
     "output_type": "stream",
     "text": [
      "function of parent class\n",
      "function of child class\n"
     ]
    }
   ],
   "source": [
    "#single inheritance\n",
    "\n",
    "class parent:\n",
    "    def f1(self):\n",
    "        print(\"function of parent class\")\n",
    "class child(parent):\n",
    "    def f2(self):\n",
    "        print(\"function of child class\")\n",
    "object1 = child()\n",
    "object1.f1()\n",
    "object1.f2()"
   ]
  },
  {
   "cell_type": "code",
   "execution_count": 18,
   "id": "3ee61c33",
   "metadata": {},
   "outputs": [
    {
     "name": "stdout",
     "output_type": "stream",
     "text": [
      "function of parent1 class\n",
      "function of parent2 class\n",
      "function of parent3 class\n",
      "function of child class\n"
     ]
    }
   ],
   "source": [
    "#multiple inheritance\n",
    "class parent1:\n",
    "    def f1(self):\n",
    "        print(\"function of parent1 class\")\n",
    "class parent2:\n",
    "    def f2(self):\n",
    "        print(\"function of parent2 class\")\n",
    "class parent3:\n",
    "    def f3(self):\n",
    "        print(\"function of parent3 class\")\n",
    "class child(parent1, parent2, parent3):\n",
    "    def fc(self):\n",
    "        print(\"function of child class\")\n",
    "object1 = child()\n",
    "object1.f1()\n",
    "object1.f2()\n",
    "object1.f3()\n",
    "object1.fc()"
   ]
  },
  {
   "cell_type": "code",
   "execution_count": 26,
   "id": "f3537236",
   "metadata": {},
   "outputs": [
    {
     "name": "stdout",
     "output_type": "stream",
     "text": [
      "function of parent class\n",
      "function of child1 class\n",
      "function of parent class\n",
      "function of child1 class\n",
      "function of child2 class\n"
     ]
    }
   ],
   "source": [
    "#multi-level inheritance\n",
    "class parent:\n",
    "    def f1(self):\n",
    "        print(\"function of parent class\")\n",
    "class child1(parent):\n",
    "    def f2(self):\n",
    "        print(\"function of child1 class\")\n",
    "class child2(child1):\n",
    "    def f3(self):\n",
    "        print(\"function of child2 class\")\n",
    "object1 = child1()\n",
    "object1.f1()\n",
    "object1.f2()\n",
    "object2 = child2()\n",
    "object2.f1()\n",
    "object2.f2()\n",
    "object2.f3()"
   ]
  },
  {
   "cell_type": "code",
   "execution_count": 24,
   "id": "2828df96",
   "metadata": {},
   "outputs": [
    {
     "name": "stdout",
     "output_type": "stream",
     "text": [
      "function of child1 class\n",
      "function of parent class\n",
      "function of child2 class\n",
      "function of parent class\n"
     ]
    }
   ],
   "source": [
    "#hierarchical inheritance\n",
    "class parent:\n",
    "    def f1(self):\n",
    "        print(\"function of parent class\")\n",
    "class child1(parent):\n",
    "    def f2(self):\n",
    "        print(\"function of child1 class\")\n",
    "class child2(parent):\n",
    "    def f3(self):\n",
    "        print(\"function of child2 class\")\n",
    "object1 = child1()\n",
    "object1.f2()\n",
    "object1.f1()\n",
    "object2 = child2()\n",
    "object2.f3()\n",
    "object2.f1()"
   ]
  },
  {
   "cell_type": "code",
   "execution_count": 22,
   "id": "5b267db9",
   "metadata": {},
   "outputs": [
    {
     "name": "stdout",
     "output_type": "stream",
     "text": [
      "function of parent class\n",
      "function of child1 class\n",
      "function of child2 class\n",
      "function of child3 class\n"
     ]
    }
   ],
   "source": [
    "#hybrid inheritance\n",
    "class parent:\n",
    "    def f1(self):\n",
    "        print(\"function of parent class\")\n",
    "class child1(parent):\n",
    "    def f2(self):\n",
    "        print(\"function of child1 class\")\n",
    "class child2(parent):\n",
    "    def f3(self):\n",
    "        print(\"function of child2 class\")\n",
    "class child3(child1, child2):\n",
    "    def f4(self):\n",
    "        print(\"function of child3 class\")\n",
    "object1 = child3()\n",
    "object1.f1()\n",
    "object1.f2()\n",
    "object1.f3()\n",
    "object1.f4()"
   ]
  },
  {
   "cell_type": "code",
   "execution_count": null,
   "id": "e2c9d93d",
   "metadata": {},
   "outputs": [],
   "source": []
  }
 ],
 "metadata": {
  "kernelspec": {
   "display_name": "Python 3 (ipykernel)",
   "language": "python",
   "name": "python3"
  },
  "language_info": {
   "codemirror_mode": {
    "name": "ipython",
    "version": 3
   },
   "file_extension": ".py",
   "mimetype": "text/x-python",
   "name": "python",
   "nbconvert_exporter": "python",
   "pygments_lexer": "ipython3",
   "version": "3.9.12"
  }
 },
 "nbformat": 4,
 "nbformat_minor": 5
}
